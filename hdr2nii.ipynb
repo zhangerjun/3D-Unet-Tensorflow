{
 "cells": [
  {
   "cell_type": "code",
   "execution_count": 44,
   "metadata": {},
   "outputs": [
    {
     "name": "stdout",
     "output_type": "stream",
     "text": [
      "(144, 192, 256)\n"
     ]
    }
   ],
   "source": [
    "import os\n",
    "import numpy as np\n",
    "import nibabel as nib\n",
    "from dipy.align.reslice import reslice\n",
    "from dipy.io.image import load_nifti,save_nifti\n",
    "#################load npy files#################\n",
    "#-----------------------------------------------\n",
    "# input data type: #.npy, #.img\n",
    "os.chdir('/home/erjun/github/3D-Unet-Tensorflow/data/iseg2017/prediction')\n",
    "name_npy = 'preds-447-sub-10-overlap-8-patch-32'\n",
    "#-----------npy or img--------------------------\n",
    "# if npy\n",
    "data_file = np.load(name_npy+'.npy')\n",
    "data_old = data_file.astype(np.float32)\n",
    "print(data_old.shape)\n",
    "# if img\n",
    "# data_nib = nib.load(name_npy+'.img')#note that the data is not an array but an ArrayProxy instance\n",
    "# print(data_nib.get_header())\n",
    "# data_old = np.squeeze(data_nib._data)\n",
    "\n",
    "# zoom_old = data_nib.get_header()\n",
    "#################save to nii files##############\n",
    "#-----------------------------------------------\n",
    "data_name= 'preds-447-sub-10-overlap-8-patch-32'#change saving name\n",
    "data_new = data_old#.astype(np.int16)#change data type\n",
    "zooms_new=[1,1,1]#res#change resolution\n",
    "#-----------------------------------------------\n",
    "img_new = nib.Nifti1Image(data_new, np.eye(4))#set predifined header\n",
    "img_new.header.set_zooms(zooms_new)#set right resolution\n",
    "img_new.header['qoffset_x'] = 0\n",
    "img_new.header['qoffset_y'] = 0\n",
    "img_new.header['qoffset_z'] = 0\n",
    "img_new.header['dim'][3] = data_new.shape[2]#[4,128,128,14,6,1,0,0]\n",
    "save_nifti(data_name+'.nii', data_new, np.eye(4),hdr=img_new.header)"
   ]
  }
 ],
 "metadata": {
  "interpreter": {
   "hash": "d6a818820a2d4b94df252b23f7d311b5b1a3798c769b2a454cee3c1911e726f3"
  },
  "kernelspec": {
   "display_name": "Python 3.9.7 ('base')",
   "language": "python",
   "name": "python3"
  },
  "language_info": {
   "codemirror_mode": {
    "name": "ipython",
    "version": 3
   },
   "file_extension": ".py",
   "mimetype": "text/x-python",
   "name": "python",
   "nbconvert_exporter": "python",
   "pygments_lexer": "ipython3",
   "version": "3.9.12"
  },
  "orig_nbformat": 4
 },
 "nbformat": 4,
 "nbformat_minor": 2
}
